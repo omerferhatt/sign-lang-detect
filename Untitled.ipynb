{
 "cells": [
  {
   "cell_type": "code",
   "execution_count": 1,
   "metadata": {},
   "outputs": [],
   "source": [
    "import numpy as np\n",
    "import tensorflow as tf\n",
    "\n",
    "from utils.dataset import Dataset\n",
    "from models.model import DenseModel"
   ]
  },
  {
   "cell_type": "code",
   "execution_count": 2,
   "metadata": {},
   "outputs": [],
   "source": [
    "input_shape = (224, 224, 3)\n",
    "\n",
    "epoch = 75\n",
    "batch_size = 128\n",
    "learning_rate = 1e-2"
   ]
  },
  {
   "cell_type": "code",
   "execution_count": 3,
   "metadata": {},
   "outputs": [],
   "source": [
    "dataset_train = Dataset('data/Train', 'png', num_parallel_calls=tf.data.experimental.AUTOTUNE,\n",
    "                        is_training=True, target_shape=input_shape[:2])\n",
    "dataset_test = Dataset('data/Test', 'png', num_parallel_calls=tf.data.experimental.AUTOTUNE,\n",
    "                       is_training=False, target_shape=input_shape[:2])\n",
    "\n",
    "train_ds = dataset_train.get_ds()\n",
    "test_ds = dataset_test.get_ds()\n",
    "\n",
    "train_ds = train_ds.cache().batch(batch_size).prefetch(tf.data.experimental.AUTOTUNE)\n",
    "test_ds = test_ds.cache().batch(batch_size).prefetch(tf.data.experimental.AUTOTUNE)"
   ]
  },
  {
   "cell_type": "code",
   "execution_count": 8,
   "metadata": {},
   "outputs": [
    {
     "name": "stdout",
     "output_type": "stream",
     "text": [
      "181.80353\n",
      "0.0\n"
     ]
    }
   ],
   "source": [
    "for img, label in train_ds.unbatch().take(100).as_numpy_iterator():\n",
    "    print(np.max(img))\n",
    "    print(np.min(img))\n",
    "    break"
   ]
  },
  {
   "cell_type": "code",
   "execution_count": 5,
   "metadata": {},
   "outputs": [],
   "source": [
    "opt = tf.keras.optimizers.SGD(learning_rate=1e-3, momentum=0.9, nesterov=True)\n",
    "loss = tf.keras.losses.CategoricalCrossentropy(label_smoothing=0.1)\n",
    "metrics = [tf.keras.metrics.CategoricalAccuracy(), tf.keras.metrics.TopKCategoricalAccuracy(k=3)]\n",
    "\n",
    "dm = DenseModel(\n",
    "    optimizer=opt,\n",
    "    loss=loss,\n",
    "    metrics=metrics,\n",
    "    num_hidden_units=(512,),\n",
    "    backbone_name='mobilenetv3',\n",
    "    input_shape=(224, 224, 3),\n",
    "    backbone_weights='imagenet',\n",
    "    backbone_trainable=True)\n",
    "\n",
    "dm.set_freeze(0)"
   ]
  },
  {
   "cell_type": "code",
   "execution_count": 6,
   "metadata": {},
   "outputs": [
    {
     "name": "stdout",
     "output_type": "stream",
     "text": [
      "Model: \"sequential\"\n",
      "_________________________________________________________________\n",
      "Layer (type)                 Output Shape              Param #   \n",
      "=================================================================\n",
      "MobilenetV3small (Functional (None, 7, 7, 1024)        1529968   \n",
      "_________________________________________________________________\n",
      "mobilenetv3_top (Functional) (None, 25)                537625    \n",
      "=================================================================\n",
      "Total params: 2,067,593\n",
      "Trainable params: 537,625\n",
      "Non-trainable params: 1,529,968\n",
      "_________________________________________________________________\n"
     ]
    }
   ],
   "source": [
    "dm.model.summary()"
   ]
  },
  {
   "cell_type": "code",
   "execution_count": null,
   "metadata": {},
   "outputs": [],
   "source": [
    "dm.set_freeze(-1, tf.keras.optimizers.SGD(learning_rate=1e-3, momentum=0.9, nesterov=True))\n",
    "dm.model.layers[0].summary()\n",
    "# dm.model.summary()"
   ]
  },
  {
   "cell_type": "code",
   "execution_count": 7,
   "metadata": {},
   "outputs": [],
   "source": [
    "callbacks = [tf.keras.callbacks.ReduceLROnPlateau(patience=5, verbose=1),\n",
    "             tf.keras.callbacks.EarlyStopping(patience=10)]"
   ]
  },
  {
   "cell_type": "code",
   "execution_count": null,
   "metadata": {},
   "outputs": [],
   "source": [
    "dm.model.fit(train_ds, validation_data=test_ds, epochs=epoch)"
   ]
  }
 ],
 "metadata": {
  "kernelspec": {
   "display_name": "Python 3",
   "language": "python",
   "name": "python3"
  },
  "language_info": {
   "codemirror_mode": {
    "name": "ipython",
    "version": 3
   },
   "file_extension": ".py",
   "mimetype": "text/x-python",
   "name": "python",
   "nbconvert_exporter": "python",
   "pygments_lexer": "ipython3",
   "version": "3.8.5"
  }
 },
 "nbformat": 4,
 "nbformat_minor": 4
}
